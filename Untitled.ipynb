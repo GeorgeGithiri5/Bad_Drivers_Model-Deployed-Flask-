{
 "cells": [
  {
   "cell_type": "markdown",
   "metadata": {},
   "source": [
    "## Introduction\n",
    "This Not Notebook contain a data analysis and a machine learning model used in a bad-driver.csv dataset."
   ]
  },
  {
   "cell_type": "code",
   "execution_count": 1,
   "metadata": {},
   "outputs": [],
   "source": [
    "import numpy as np\n",
    "import pandas as pd\n",
    "import matplotlib.pyplot as plt\n",
    "import seaborn as sns"
   ]
  },
  {
   "cell_type": "code",
   "execution_count": 2,
   "metadata": {},
   "outputs": [
    {
     "data": {
      "text/html": [
       "<div>\n",
       "<style scoped>\n",
       "    .dataframe tbody tr th:only-of-type {\n",
       "        vertical-align: middle;\n",
       "    }\n",
       "\n",
       "    .dataframe tbody tr th {\n",
       "        vertical-align: top;\n",
       "    }\n",
       "\n",
       "    .dataframe thead th {\n",
       "        text-align: right;\n",
       "    }\n",
       "</style>\n",
       "<table border=\"1\" class=\"dataframe\">\n",
       "  <thead>\n",
       "    <tr style=\"text-align: right;\">\n",
       "      <th></th>\n",
       "      <th>State</th>\n",
       "      <th>Number of drivers involved in fatal collisions per billion miles</th>\n",
       "      <th>Percentage Of Drivers Involved In Fatal Collisions Who Were Speeding</th>\n",
       "      <th>Percentage Of Drivers Involved In Fatal Collisions Who Were Alcohol-Impaired</th>\n",
       "      <th>Percentage Of Drivers Involved In Fatal Collisions Who Were Not Distracted</th>\n",
       "      <th>Percentage Of Drivers Involved In Fatal Collisions Who Had Not Been Involved In Any Previous Accidents</th>\n",
       "      <th>Car Insurance Premiums ($)</th>\n",
       "      <th>Losses incurred by insurance companies for collisions per insured driver ($)</th>\n",
       "    </tr>\n",
       "  </thead>\n",
       "  <tbody>\n",
       "    <tr>\n",
       "      <th>0</th>\n",
       "      <td>Alabama</td>\n",
       "      <td>18.8</td>\n",
       "      <td>39</td>\n",
       "      <td>30</td>\n",
       "      <td>96</td>\n",
       "      <td>80</td>\n",
       "      <td>784.55</td>\n",
       "      <td>145.08</td>\n",
       "    </tr>\n",
       "    <tr>\n",
       "      <th>1</th>\n",
       "      <td>Alaska</td>\n",
       "      <td>18.1</td>\n",
       "      <td>41</td>\n",
       "      <td>25</td>\n",
       "      <td>90</td>\n",
       "      <td>94</td>\n",
       "      <td>1053.48</td>\n",
       "      <td>133.93</td>\n",
       "    </tr>\n",
       "    <tr>\n",
       "      <th>2</th>\n",
       "      <td>Arizona</td>\n",
       "      <td>18.6</td>\n",
       "      <td>35</td>\n",
       "      <td>28</td>\n",
       "      <td>84</td>\n",
       "      <td>96</td>\n",
       "      <td>899.47</td>\n",
       "      <td>110.35</td>\n",
       "    </tr>\n",
       "    <tr>\n",
       "      <th>3</th>\n",
       "      <td>Arkansas</td>\n",
       "      <td>22.4</td>\n",
       "      <td>18</td>\n",
       "      <td>26</td>\n",
       "      <td>94</td>\n",
       "      <td>95</td>\n",
       "      <td>827.34</td>\n",
       "      <td>142.39</td>\n",
       "    </tr>\n",
       "    <tr>\n",
       "      <th>4</th>\n",
       "      <td>California</td>\n",
       "      <td>12.0</td>\n",
       "      <td>35</td>\n",
       "      <td>28</td>\n",
       "      <td>91</td>\n",
       "      <td>89</td>\n",
       "      <td>878.41</td>\n",
       "      <td>165.63</td>\n",
       "    </tr>\n",
       "  </tbody>\n",
       "</table>\n",
       "</div>"
      ],
      "text/plain": [
       "        State  \\\n",
       "0     Alabama   \n",
       "1      Alaska   \n",
       "2     Arizona   \n",
       "3    Arkansas   \n",
       "4  California   \n",
       "\n",
       "   Number of drivers involved in fatal collisions per billion miles  \\\n",
       "0                                               18.8                  \n",
       "1                                               18.1                  \n",
       "2                                               18.6                  \n",
       "3                                               22.4                  \n",
       "4                                               12.0                  \n",
       "\n",
       "   Percentage Of Drivers Involved In Fatal Collisions Who Were Speeding  \\\n",
       "0                                                 39                      \n",
       "1                                                 41                      \n",
       "2                                                 35                      \n",
       "3                                                 18                      \n",
       "4                                                 35                      \n",
       "\n",
       "   Percentage Of Drivers Involved In Fatal Collisions Who Were Alcohol-Impaired  \\\n",
       "0                                                 30                              \n",
       "1                                                 25                              \n",
       "2                                                 28                              \n",
       "3                                                 26                              \n",
       "4                                                 28                              \n",
       "\n",
       "   Percentage Of Drivers Involved In Fatal Collisions Who Were Not Distracted  \\\n",
       "0                                                 96                            \n",
       "1                                                 90                            \n",
       "2                                                 84                            \n",
       "3                                                 94                            \n",
       "4                                                 91                            \n",
       "\n",
       "   Percentage Of Drivers Involved In Fatal Collisions Who Had Not Been Involved In Any Previous Accidents  \\\n",
       "0                                                 80                                                        \n",
       "1                                                 94                                                        \n",
       "2                                                 96                                                        \n",
       "3                                                 95                                                        \n",
       "4                                                 89                                                        \n",
       "\n",
       "   Car Insurance Premiums ($)  \\\n",
       "0                      784.55   \n",
       "1                     1053.48   \n",
       "2                      899.47   \n",
       "3                      827.34   \n",
       "4                      878.41   \n",
       "\n",
       "   Losses incurred by insurance companies for collisions per insured driver ($)  \n",
       "0                                             145.08                             \n",
       "1                                             133.93                             \n",
       "2                                             110.35                             \n",
       "3                                             142.39                             \n",
       "4                                             165.63                             "
      ]
     },
     "execution_count": 2,
     "metadata": {},
     "output_type": "execute_result"
    }
   ],
   "source": [
    "data = pd.read_csv(\"bad-drivers.csv\")\n",
    "data.head()"
   ]
  },
  {
   "cell_type": "code",
   "execution_count": 3,
   "metadata": {},
   "outputs": [
    {
     "data": {
      "text/plain": [
       "(51, 8)"
      ]
     },
     "execution_count": 3,
     "metadata": {},
     "output_type": "execute_result"
    }
   ],
   "source": [
    "data.shape"
   ]
  },
  {
   "cell_type": "code",
   "execution_count": null,
   "metadata": {},
   "outputs": [],
   "source": []
  }
 ],
 "metadata": {
  "kernelspec": {
   "display_name": "Python 3",
   "language": "python",
   "name": "python3"
  },
  "language_info": {
   "codemirror_mode": {
    "name": "ipython",
    "version": 3
   },
   "file_extension": ".py",
   "mimetype": "text/x-python",
   "name": "python",
   "nbconvert_exporter": "python",
   "pygments_lexer": "ipython3",
   "version": "3.6.10"
  }
 },
 "nbformat": 4,
 "nbformat_minor": 2
}
